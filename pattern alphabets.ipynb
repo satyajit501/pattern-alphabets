{
 "cells": [
  {
   "cell_type": "code",
   "execution_count": 2,
   "metadata": {},
   "outputs": [
    {
     "name": "stdout",
     "output_type": "stream",
     "text": [
      "* * *\n",
      "*   *\n",
      "* * *\n",
      "*   *\n",
      "*   *\n"
     ]
    }
   ],
   "source": [
    "x=0\n",
    "while x<5:\n",
    "    if x==0:\n",
    "        print(\"* * *\")\n",
    "    elif x==1:\n",
    "        print(\"*   *\")\n",
    "    elif x==2:\n",
    "        print(\"* * *\")\n",
    "    elif x==3:\n",
    "        print(\"*   *\")\n",
    "    elif x==4:\n",
    "        print(\"*   *\")\n",
    "    x=x+1\n",
    "    "
   ]
  },
  {
   "cell_type": "code",
   "execution_count": 5,
   "metadata": {},
   "outputs": [
    {
     "name": "stdout",
     "output_type": "stream",
     "text": [
      "* * *\n",
      "*    *\n",
      "*  *\n",
      "* *\n",
      "*  *\n",
      "*    *\n",
      "* * *\n"
     ]
    }
   ],
   "source": [
    "x=0\n",
    "while x<7:\n",
    "    if x==0:\n",
    "        print(\"* * *\")\n",
    "    elif x==1:\n",
    "        print(\"*    *\")\n",
    "    elif x==2:\n",
    "        print(\"*  *\")\n",
    "    elif x==3:\n",
    "        print(\"* *\")\n",
    "    elif x==4:\n",
    "        print(\"*  *\")\n",
    "    elif x==5:\n",
    "        print(\"*    *\")\n",
    "    elif x==6:\n",
    "        print(\"* * *\")\n",
    "    x=x+1"
   ]
  },
  {
   "cell_type": "code",
   "execution_count": 8,
   "metadata": {},
   "outputs": [
    {
     "name": "stdout",
     "output_type": "stream",
     "text": [
      "  * * *\n",
      " *\n",
      "*\n",
      "*\n",
      " *\n",
      "  * * *\n"
     ]
    }
   ],
   "source": [
    "x=0\n",
    "while x<6:\n",
    "    if x==0:\n",
    "        print(\"  * * *\")\n",
    "    elif x==1:\n",
    "        print(\" *\")\n",
    "    elif x==2:\n",
    "        print(\"*\")\n",
    "    elif x==3:\n",
    "        print(\"*\")\n",
    "    elif x==4:\n",
    "        print(\" *\")\n",
    "    elif x==5:\n",
    "        print(\"  * * *\")\n",
    "    \n",
    "    x=x+1"
   ]
  },
  {
   "cell_type": "code",
   "execution_count": 15,
   "metadata": {},
   "outputs": [
    {
     "name": "stdout",
     "output_type": "stream",
     "text": [
      "* * *\n",
      "      *\n",
      "  *    *\n",
      "  *    *\n",
      "      *\n",
      "* * *\n"
     ]
    }
   ],
   "source": [
    "x=0\n",
    "while x<6:\n",
    "    if x==0:\n",
    "        print(\"* * *\")\n",
    "    elif x==1:\n",
    "        print(\"      *\")\n",
    "    elif x==2:\n",
    "        print(\"  *    *\")\n",
    "    elif x==3:\n",
    "        print(\"  *    *\")\n",
    "    elif x==4:\n",
    "        print(\"      *\")\n",
    "    elif x==5:\n",
    "        print(\"* * *\")\n",
    "    \n",
    "    x=x+1"
   ]
  },
  {
   "cell_type": "code",
   "execution_count": 18,
   "metadata": {},
   "outputs": [
    {
     "name": "stdout",
     "output_type": "stream",
     "text": [
      "* * * *\n",
      "*\n",
      "*\n",
      "* * * *\n",
      "*\n",
      "*\n",
      "* * * *\n"
     ]
    }
   ],
   "source": [
    "x=0\n",
    "while x<7:\n",
    "    if x==0:\n",
    "        print(\"* * * *\")\n",
    "    elif x==1:\n",
    "        print(\"*\")\n",
    "    elif x==2:\n",
    "        print(\"*\")\n",
    "    elif x==3:\n",
    "        print(\"* * * *\")\n",
    "    elif x==4:\n",
    "        print(\"*\")\n",
    "    elif x==5:\n",
    "        print(\"*\")\n",
    "    elif x==6:\n",
    "        print(\"* * * *\")\n",
    "    \n",
    "    x=x+1"
   ]
  },
  {
   "cell_type": "code",
   "execution_count": 19,
   "metadata": {},
   "outputs": [
    {
     "name": "stdout",
     "output_type": "stream",
     "text": [
      "* * * *\n",
      "*\n",
      "*\n",
      "* * * *\n",
      "*\n",
      "*\n",
      "*\n"
     ]
    }
   ],
   "source": [
    "x=0\n",
    "while x<7:\n",
    "    if x==0:\n",
    "        print(\"* * * *\")\n",
    "    elif x==1:\n",
    "        print(\"*\")\n",
    "    elif x==2:\n",
    "        print(\"*\")\n",
    "    elif x==3:\n",
    "        print(\"* * * *\")\n",
    "    elif x==4:\n",
    "        print(\"*\")\n",
    "    elif x==5:\n",
    "        print(\"*\")\n",
    "    elif x==6:\n",
    "        print(\"*\")\n",
    "    \n",
    "    x=x+1"
   ]
  },
  {
   "cell_type": "code",
   "execution_count": 33,
   "metadata": {},
   "outputs": [
    {
     "name": "stdout",
     "output_type": "stream",
     "text": [
      " * * * * \n",
      "*        \n",
      "*\n",
      "*    * * *\n",
      "*     *  *\n",
      "*     *  *\n",
      " * * *   *\n"
     ]
    }
   ],
   "source": [
    "x=0\n",
    "while x<7:\n",
    "    if x==0:\n",
    "        print(\" * * * * \")\n",
    "    elif x==1:\n",
    "        print(\"*        \")\n",
    "    elif x==2:\n",
    "        print(\"*\")\n",
    "    elif x==3:\n",
    "        print(\"*    * * *\")\n",
    "    elif x==4:\n",
    "        print(\"*     *  *\")\n",
    "    elif x==5:\n",
    "        print(\"*     *  *\")\n",
    "    elif x==6:\n",
    "        print(\" * * *   *\")\n",
    "    \n",
    "    x=x+1"
   ]
  },
  {
   "cell_type": "code",
   "execution_count": 38,
   "metadata": {},
   "outputs": [
    {
     "name": "stdout",
     "output_type": "stream",
     "text": [
      "* *       * *\n",
      "* *       * *\n",
      "* *       * *\n",
      "* * * * * * *\n",
      "* * * * * * *\n",
      "* *       * *\n",
      "* *       * *\n"
     ]
    }
   ],
   "source": [
    "x=0\n",
    "while x<7:\n",
    "    if x==0:\n",
    "        print(\"* *       * *\")\n",
    "    elif x==1:\n",
    "        print(\"* *       * *\")\n",
    "    elif x==2:\n",
    "        print(\"* *       * *\")\n",
    "    elif x==3:\n",
    "        print(\"* * * * * * *\")\n",
    "    elif x==4:\n",
    "        print(\"* * * * * * *\")\n",
    "    elif x==5:\n",
    "        print(\"* *       * *\")\n",
    "    elif x==6:\n",
    "        print(\"* *       * *\")\n",
    "    \n",
    "    x=x+1"
   ]
  },
  {
   "cell_type": "code",
   "execution_count": 39,
   "metadata": {},
   "outputs": [
    {
     "name": "stdout",
     "output_type": "stream",
     "text": [
      "* * * * * * * *\n",
      "* * * * * * * *\n",
      "      * *      \n",
      "      * *      \n",
      "      * *       \n",
      "* * * * * * * * \n",
      "* * * * * * * *\n"
     ]
    }
   ],
   "source": [
    "x=0\n",
    "while x<7:\n",
    "    if x==0:\n",
    "        print(\"* * * * * * * *\")\n",
    "    elif x==1:\n",
    "        print(\"* * * * * * * *\")\n",
    "    elif x==2:\n",
    "        print(\"      * *      \")\n",
    "    elif x==3:\n",
    "        print(\"      * *      \")\n",
    "    elif x==4:\n",
    "        print(\"      * *       \")\n",
    "    elif x==5:\n",
    "        print(\"* * * * * * * * \")\n",
    "    elif x==6:\n",
    "        print(\"* * * * * * * *\")\n",
    "    \n",
    "    x=x+1"
   ]
  },
  {
   "cell_type": "code",
   "execution_count": 40,
   "metadata": {},
   "outputs": [
    {
     "name": "stdout",
     "output_type": "stream",
     "text": [
      "* * * * * * * *\n",
      "* * * * * * * *\n",
      "      * *      \n",
      "      * *      \n",
      "      * *       \n",
      "* * * * *  \n",
      "* * * * * \n"
     ]
    }
   ],
   "source": [
    "x=0\n",
    "while x<7:\n",
    "    if x==0:\n",
    "        print(\"* * * * * * * *\")\n",
    "    elif x==1:\n",
    "        print(\"* * * * * * * *\")\n",
    "    elif x==2:\n",
    "        print(\"      * *      \")\n",
    "    elif x==3:\n",
    "        print(\"      * *      \")\n",
    "    elif x==4:\n",
    "        print(\"      * *       \")\n",
    "    elif x==5:\n",
    "        print(\"* * * * *  \")\n",
    "    elif x==6:\n",
    "        print(\"* * * * * \")\n",
    "    \n",
    "    x=x+1"
   ]
  },
  {
   "cell_type": "code",
   "execution_count": 51,
   "metadata": {},
   "outputs": [
    {
     "name": "stdout",
     "output_type": "stream",
     "text": [
      "*      *\n",
      "*     *\n",
      "*   *\n",
      "* *\n",
      "*   *\n",
      "*     *\n",
      "*      *\n"
     ]
    }
   ],
   "source": [
    "x=0\n",
    "while x<7:\n",
    "    if x==0:\n",
    "        print(\"*      *\")\n",
    "    elif x==1:\n",
    "        print(\"*     *\")\n",
    "    elif x==2:\n",
    "        print(\"*   *\")\n",
    "    elif x==3:\n",
    "        print(\"* *\")\n",
    "    elif x==4:\n",
    "        print(\"*   *\")\n",
    "    elif x==5:\n",
    "        print(\"*     *\")\n",
    "    elif x==6:\n",
    "        print(\"*      *\")\n",
    "    \n",
    "    x=x+1"
   ]
  },
  {
   "cell_type": "code",
   "execution_count": 53,
   "metadata": {},
   "outputs": [
    {
     "name": "stdout",
     "output_type": "stream",
     "text": [
      "* *\n",
      "* *\n",
      "* *\n",
      "* *\n",
      "* *\n",
      "* * * * * *\n",
      "* * * * * *\n"
     ]
    }
   ],
   "source": [
    "x=0\n",
    "while x<7:\n",
    "    if x==0:\n",
    "        print(\"* *\")\n",
    "    elif x==1:\n",
    "        print(\"* *\")\n",
    "    elif x==2:\n",
    "        print(\"* *\")\n",
    "    elif x==3:\n",
    "        print(\"* *\")\n",
    "    elif x==4:\n",
    "        print(\"* *\")\n",
    "    elif x==5:\n",
    "        print(\"* * * * * *\")\n",
    "    elif x==6:\n",
    "        print(\"* * * * * *\")\n",
    "    \n",
    "    x=x+1"
   ]
  },
  {
   "cell_type": "code",
   "execution_count": 54,
   "metadata": {},
   "outputs": [
    {
     "name": "stdout",
     "output_type": "stream",
     "text": [
      "* *           * *\n",
      "* *  *     *  * *\n",
      "* *    * *    * *\n",
      "* *    * *    * *\n",
      "* *           * *\n",
      "* *           * *\n",
      "* *           * *\n"
     ]
    }
   ],
   "source": [
    "x=0\n",
    "while x<7:\n",
    "    if x==0:\n",
    "        print(\"* *           * *\")\n",
    "    elif x==1:\n",
    "        print(\"* *  *     *  * *\")\n",
    "    elif x==2:\n",
    "        print(\"* *    * *    * *\")\n",
    "    elif x==3:\n",
    "        print(\"* *    * *    * *\")\n",
    "    elif x==4:\n",
    "        print(\"* *           * *\")\n",
    "    elif x==5:\n",
    "        print(\"* *           * *\")\n",
    "    elif x==6:\n",
    "        print(\"* *           * *\")\n",
    "    \n",
    "    x=x+1"
   ]
  },
  {
   "cell_type": "code",
   "execution_count": 56,
   "metadata": {},
   "outputs": [
    {
     "name": "stdout",
     "output_type": "stream",
     "text": [
      "* * *            * *\n",
      "* *  *           * *\n",
      "* *    *         * *\n",
      "* *      *       * *\n",
      "* *         *    * *\n",
      "* *            * * *\n",
      "* *              * *\n"
     ]
    }
   ],
   "source": [
    "x=0\n",
    "while x<7:\n",
    "    if x==0:\n",
    "        print(\"* * *            * *\")\n",
    "    elif x==1:\n",
    "        print(\"* *  *           * *\")\n",
    "    elif x==2:\n",
    "        print(\"* *    *         * *\")\n",
    "    elif x==3:\n",
    "        print(\"* *      *       * *\")\n",
    "    elif x==4:\n",
    "        print(\"* *         *    * *\")\n",
    "    elif x==5:\n",
    "        print(\"* *            * * *\")\n",
    "    elif x==6:\n",
    "        print(\"* *              * *\")\n",
    "    \n",
    "    x=x+1"
   ]
  },
  {
   "cell_type": "code",
   "execution_count": 98,
   "metadata": {},
   "outputs": [
    {
     "name": "stdout",
     "output_type": "stream",
     "text": [
      "      *   *      \n",
      "   *          *   \n",
      "  *            *\n",
      "  *            *\n",
      "   *          *\n",
      "    *        *\n",
      "       *  *\n"
     ]
    }
   ],
   "source": [
    "x=0\n",
    "while x<7:\n",
    "    if x==0:\n",
    "        print(\"      *   *      \")\n",
    "    elif x==1:\n",
    "        print(\"   *          *   \")\n",
    "    elif x==2:\n",
    "        print(\"  *            *\")\n",
    "    elif x==3:\n",
    "        print(\"  *            *\")\n",
    "    elif x==4:\n",
    "        print(\"   *          *\")\n",
    "    elif x==5:\n",
    "        print(\"    *        *\")\n",
    "    elif x==6:\n",
    "        print(\"       *  *\")\n",
    "    \n",
    "    x=x+1"
   ]
  },
  {
   "cell_type": "code",
   "execution_count": 134,
   "metadata": {},
   "outputs": [
    {
     "name": "stdout",
     "output_type": "stream",
     "text": [
      "* * * * * * *  \n",
      "* * * * * *  *\n",
      "* *        * *\n",
      "* *      *  *\n",
      "* *  *  * *\n",
      "* * * * *\n",
      "* *\n",
      "* *\n",
      "* *\n"
     ]
    }
   ],
   "source": [
    "x=0\n",
    "while x<9:\n",
    "    if x==0:\n",
    "        print(\"* * * * * * *  \")\n",
    "    elif x==1:\n",
    "        print(\"* * * * * *  *\")\n",
    "    elif x==2:\n",
    "        print(\"* *        * *\")\n",
    "    elif x==3:\n",
    "        print(\"* *      *  *\")\n",
    "    elif x==4:\n",
    "        print(\"* *  *  * *\")\n",
    "    elif x==5:\n",
    "        print(\"* * * * *\")\n",
    "    elif x==6:\n",
    "        print(\"* *\")\n",
    "    elif x==7:\n",
    "        print(\"* *\")\n",
    "    elif x==8:\n",
    "        print(\"* *\")\n",
    "    \n",
    "    x=x+1"
   ]
  },
  {
   "cell_type": "code",
   "execution_count": null,
   "metadata": {},
   "outputs": [],
   "source": [
    "x=0\n",
    "while x<9:\n",
    "    if x==0:\n",
    "        print(\"* * * * * * *  \")\n",
    "    elif x==1:\n",
    "        print(\"* * * * * *  *\")\n",
    "    elif x==2:\n",
    "        print(\"* *        * *\")\n",
    "    elif x==3:\n",
    "        print(\"* *      *  *\")\n",
    "    elif x==4:\n",
    "        print(\"* *  *  * *\")\n",
    "    elif x==5:\n",
    "        print(\"* * * * *\")\n",
    "    elif x==6:\n",
    "        print(\"* *\")\n",
    "    elif x==7:\n",
    "        print(\"* *\")\n",
    "    elif x==8:\n",
    "        print(\"* *\")\n",
    "    \n",
    "    x=x+1"
   ]
  },
  {
   "cell_type": "code",
   "execution_count": 146,
   "metadata": {},
   "outputs": [
    {
     "name": "stdout",
     "output_type": "stream",
     "text": [
      "* * * * * * *  \n",
      "* * * * * *  *\n",
      "* *        * *\n",
      "* *      *  *\n",
      "* *  *  * *\n",
      "* * * * *  *\n",
      "* *       *  *\n",
      "* *         *  *\n",
      "* *           *  *\n",
      "* *            *  *\n"
     ]
    }
   ],
   "source": [
    "x=0\n",
    "while x<10:\n",
    "    if x==0:\n",
    "        print(\"* * * * * * *  \")\n",
    "    elif x==1:\n",
    "        print(\"* * * * * *  *\")\n",
    "    elif x==2:\n",
    "        print(\"* *        * *\")\n",
    "    elif x==3:\n",
    "        print(\"* *      *  *\")\n",
    "    elif x==4:\n",
    "        print(\"* *  *  * *\")\n",
    "    elif x==5:\n",
    "        print(\"* * * * *  *\")\n",
    "    elif x==6:\n",
    "        print(\"* *       *  *\")\n",
    "    elif x==7:\n",
    "        print(\"* *         *  *\")\n",
    "    elif x==8:\n",
    "        print(\"* *           *  *\")\n",
    "    elif x==9:\n",
    "        print(\"* *            *  *\")\n",
    "    \n",
    "    x=x+1"
   ]
  },
  {
   "cell_type": "code",
   "execution_count": 186,
   "metadata": {},
   "outputs": [
    {
     "name": "stdout",
     "output_type": "stream",
     "text": [
      "  * * * * *   \n",
      "* *  * * *  *\n",
      "* *       * *\n",
      "* *       \n",
      "* *  *  * * \n",
      " * * * * *  *\n",
      "          * *\n",
      "* *       * *\n",
      "* * * *  *  *\n",
      " * * * * *\n"
     ]
    }
   ],
   "source": [
    "x=0\n",
    "while x<10:\n",
    "    if x==0:\n",
    "        print(\"  * * * * *   \")\n",
    "    elif x==1:\n",
    "        print(\"* *  * * *  *\")\n",
    "    elif x==2:\n",
    "        print(\"* *       * *\")\n",
    "    elif x==3:\n",
    "        print(\"* *       \")\n",
    "    elif x==4:\n",
    "        print(\"* *  *  * * \")\n",
    "    elif x==5:\n",
    "        print(\" * * * * *  *\")\n",
    "    elif x==6:\n",
    "        print(\"          * *\")\n",
    "    elif x==7:\n",
    "        print(\"* *       * *\")\n",
    "    elif x==8:\n",
    "        print(\"* * * *  *  *\")\n",
    "    elif x==9:\n",
    "        print(\" * * * * *\")\n",
    "    \n",
    "    x=x+1"
   ]
  },
  {
   "cell_type": "code",
   "execution_count": 190,
   "metadata": {},
   "outputs": [
    {
     "name": "stdout",
     "output_type": "stream",
     "text": [
      "* * * * * * * * * *\n",
      "* * * * * * * * * *\n",
      "        * *      \n",
      "        * *      \n",
      "        * *      \n",
      "        * *      \n",
      "        * *      \n",
      "        * *      \n",
      "        * *      \n",
      "        * *      \n"
     ]
    }
   ],
   "source": [
    "x=0\n",
    "while x<10:\n",
    "    if x==0:\n",
    "        print(\"* * * * * * * * * *\")\n",
    "    elif x==1:\n",
    "        print(\"* * * * * * * * * *\")\n",
    "    elif x==2:\n",
    "        print(\"        * *      \")\n",
    "    elif x==3:\n",
    "        print(\"        * *      \")\n",
    "    elif x==4:\n",
    "        print(\"        * *      \")\n",
    "    elif x==5:\n",
    "        print(\"        * *      \")\n",
    "    elif x==6:\n",
    "        print(\"        * *      \")\n",
    "    elif x==7:\n",
    "        print(\"        * *      \")\n",
    "    elif x==8:\n",
    "        print(\"        * *      \")\n",
    "    elif x==9:\n",
    "        print(\"        * *      \")\n",
    "    \n",
    "    x=x+1"
   ]
  },
  {
   "cell_type": "code",
   "execution_count": 207,
   "metadata": {},
   "outputs": [
    {
     "name": "stdout",
     "output_type": "stream",
     "text": [
      "* *                 * *\n",
      "* *                 * *\n",
      "* *                 * *\n",
      "* *                 * *\n",
      "* *                 * *\n",
      "* *                 * *\n",
      " * *               * *\n",
      "  * *             * *\n",
      "   * * * * * * * * *\n",
      "     * * * * * * * \n"
     ]
    }
   ],
   "source": [
    "x=0\n",
    "while x<10:\n",
    "    if x==0:\n",
    "        print(\"* *                 * *\")\n",
    "    elif x==1:\n",
    "        print(\"* *                 * *\")\n",
    "    elif x==2:\n",
    "        print(\"* *                 * *\")\n",
    "    elif x==3:\n",
    "        print(\"* *                 * *\")\n",
    "    elif x==4:\n",
    "        print(\"* *                 * *\")\n",
    "    elif x==5:\n",
    "        print(\"* *                 * *\")\n",
    "    elif x==6:\n",
    "        print(\" * *               * *\")\n",
    "    elif x==7:\n",
    "        print(\"  * *             * *\")\n",
    "    elif x==8:\n",
    "        print(\"   * * * * * * * * *\")\n",
    "    elif x==9:\n",
    "        print(\"     * * * * * * * \")\n",
    "    \n",
    "    x=x+1"
   ]
  },
  {
   "cell_type": "code",
   "execution_count": 208,
   "metadata": {},
   "outputs": [
    {
     "name": "stdout",
     "output_type": "stream",
     "text": [
      "* *                 * *\n",
      " * *               * *\n",
      "  * *             * *\n",
      "   * *           * *\n",
      "    * *         * *\n",
      "     * *       * *\n",
      "      * *     * *\n",
      "       * *   * *\n",
      "        * * * *   \n",
      "         * * *     \n"
     ]
    }
   ],
   "source": [
    "x=0\n",
    "while x<10:\n",
    "    if x==0:\n",
    "        print(\"* *                 * *\")\n",
    "    elif x==1:\n",
    "        print(\" * *               * *\")\n",
    "    elif x==2:\n",
    "        print(\"  * *             * *\")\n",
    "    elif x==3:\n",
    "        print(\"   * *           * *\")\n",
    "    elif x==4:\n",
    "        print(\"    * *         * *\")\n",
    "    elif x==5:\n",
    "        print(\"     * *       * *\")\n",
    "    elif x==6:\n",
    "        print(\"      * *     * *\")\n",
    "    elif x==7:\n",
    "        print(\"       * *   * *\")\n",
    "    elif x==8:\n",
    "        print(\"        * * * *   \")\n",
    "    elif x==9:\n",
    "        print(\"         * * *     \")\n",
    "    \n",
    "    x=x+1"
   ]
  },
  {
   "cell_type": "code",
   "execution_count": 226,
   "metadata": {},
   "outputs": [
    {
     "name": "stdout",
     "output_type": "stream",
     "text": [
      "* *             * * *             * *\n",
      " * *           * * * *           * *\n",
      "  * *         * *   * *         * *\n",
      "   * *       * *     * *       * *\n",
      "    * *     * *       * *     * *\n",
      "     * *   * *         * *   * *\n",
      "      * * * *           * * * *\n",
      "       * * *             * * *\n",
      "        * *               * * \n",
      "         *                 *      \n"
     ]
    }
   ],
   "source": [
    "x=0\n",
    "while x<10:\n",
    "    if x==0:\n",
    "        print(\"* *             * * *             * *\")\n",
    "    elif x==1:\n",
    "        print(\" * *           * * * *           * *\")\n",
    "    elif x==2:\n",
    "        print(\"  * *         * *   * *         * *\")\n",
    "    elif x==3:\n",
    "        print(\"   * *       * *     * *       * *\")\n",
    "    elif x==4:\n",
    "        print(\"    * *     * *       * *     * *\")\n",
    "    elif x==5:\n",
    "        print(\"     * *   * *         * *   * *\")\n",
    "    elif x==6:\n",
    "        print(\"      * * * *           * * * *\")\n",
    "    elif x==7:\n",
    "        print(\"       * * *             * * *\")\n",
    "    elif x==8:\n",
    "        print(\"        * *               * * \")\n",
    "    elif x==9:\n",
    "        print(\"         *                 *      \")\n",
    "    \n",
    "    x=x+1"
   ]
  },
  {
   "cell_type": "code",
   "execution_count": 257,
   "metadata": {},
   "outputs": [
    {
     "name": "stdout",
     "output_type": "stream",
     "text": [
      "    * *         * *\n",
      "     * *       * *\n",
      "      * *     * *\n",
      "       * *   * *\n",
      "        * * * *\n",
      "         * * * \n",
      "        * * * *\n",
      "       * *   * *\n",
      "      * *     * *\n",
      "     * *       * *\n",
      "    * *         * *\n"
     ]
    }
   ],
   "source": [
    "x=0\n",
    "while x<11:\n",
    "    if x==0:\n",
    "        print(\"    * *         * *\")\n",
    "    elif x==1:\n",
    "        print(\"     * *       * *\")\n",
    "    elif x==2:\n",
    "        print(\"      * *     * *\")\n",
    "    elif x==3:\n",
    "        print(\"       * *   * *\")\n",
    "    elif x==4:\n",
    "        print(\"        * * * *\")\n",
    "    elif x==5:\n",
    "        print(\"         * * * \")\n",
    "    elif x==6:\n",
    "        print(\"        * * * *\")\n",
    "    elif x==7:\n",
    "        print(\"       * *   * *\")\n",
    "    elif x==8:\n",
    "        print(\"      * *     * *\")\n",
    "    elif x==9:\n",
    "        print(\"     * *       * *\")\n",
    "    elif x==10:\n",
    "        print(\"    * *         * *\")\n",
    "    x=x+1"
   ]
  },
  {
   "cell_type": "code",
   "execution_count": 260,
   "metadata": {},
   "outputs": [
    {
     "name": "stdout",
     "output_type": "stream",
     "text": [
      "    * *         * *\n",
      "     * *       * *\n",
      "      * *     * *\n",
      "       * *   * *\n",
      "        * * * *\n",
      "         * * * \n",
      "          * * \n",
      "         * *\n",
      "        * *\n",
      "       * *\n",
      "      * *\n"
     ]
    }
   ],
   "source": [
    "x=0\n",
    "while x<11:\n",
    "    if x==0:\n",
    "        print(\"    * *         * *\")\n",
    "    elif x==1:\n",
    "        print(\"     * *       * *\")\n",
    "    elif x==2:\n",
    "        print(\"      * *     * *\")\n",
    "    elif x==3:\n",
    "        print(\"       * *   * *\")\n",
    "    elif x==4:\n",
    "        print(\"        * * * *\")\n",
    "    elif x==5:\n",
    "        print(\"         * * * \")\n",
    "    elif x==6:\n",
    "        print(\"          * * \")\n",
    "    elif x==7:\n",
    "        print(\"         * *\")\n",
    "    elif x==8:\n",
    "        print(\"        * *\")\n",
    "    elif x==9:\n",
    "        print(\"       * *\")\n",
    "    elif x==10:\n",
    "        print(\"      * *\")\n",
    "    x=x+1"
   ]
  },
  {
   "cell_type": "code",
   "execution_count": 270,
   "metadata": {},
   "outputs": [
    {
     "name": "stdout",
     "output_type": "stream",
     "text": [
      "* * * * * * * * * * *\n",
      "* * * * * * * * * *\n",
      "              * *\n",
      "            * *\n",
      "          * *\n",
      "        * * \n",
      "      * * \n",
      "    * *\n",
      "  * *\n",
      "* * * * * * * * * * * \n",
      "* * * * * * * * * * * \n"
     ]
    }
   ],
   "source": [
    "x=0\n",
    "while x<11:\n",
    "    if x==0:\n",
    "        print(\"* * * * * * * * * * *\")\n",
    "    elif x==1:\n",
    "        print(\"* * * * * * * * * *\")\n",
    "    elif x==2:\n",
    "        print(\"              * *\")\n",
    "    elif x==3:\n",
    "        print(\"            * *\")\n",
    "    elif x==4:\n",
    "        print(\"          * *\")\n",
    "    elif x==5:\n",
    "        print(\"        * * \")\n",
    "    elif x==6:\n",
    "        print(\"      * * \")\n",
    "    elif x==7:\n",
    "        print(\"    * *\")\n",
    "    elif x==8:\n",
    "        print(\"  * *\")\n",
    "    elif x==9:\n",
    "        print(\"* * * * * * * * * * * \")\n",
    "    elif x==10:\n",
    "        print(\"* * * * * * * * * * * \")\n",
    "    x=x+1"
   ]
  },
  {
   "cell_type": "code",
   "execution_count": null,
   "metadata": {},
   "outputs": [],
   "source": []
  }
 ],
 "metadata": {
  "kernelspec": {
   "display_name": "Python 3",
   "language": "python",
   "name": "python3"
  },
  "language_info": {
   "codemirror_mode": {
    "name": "ipython",
    "version": 3
   },
   "file_extension": ".py",
   "mimetype": "text/x-python",
   "name": "python",
   "nbconvert_exporter": "python",
   "pygments_lexer": "ipython3",
   "version": "3.7.0"
  }
 },
 "nbformat": 4,
 "nbformat_minor": 2
}
